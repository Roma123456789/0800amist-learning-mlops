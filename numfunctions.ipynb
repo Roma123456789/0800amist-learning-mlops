{
 "cells": [
  {
   "cell_type": "code",
   "execution_count": 13,
   "id": "d5fcf035-9000-4280-9537-e624a60675ab",
   "metadata": {},
   "outputs": [],
   "source": [
    "def f1(a,b):\n",
    "    return a+b\n",
    "\n",
    "def f2(a,b):\n",
    "    return a-b\n",
    "\n",
    "def f3(a,b):\n",
    "    return a*b"
   ]
  },
  {
   "cell_type": "code",
   "execution_count": 14,
   "id": "4108ec1c-891f-46ec-a125-023ad9d681c5",
   "metadata": {},
   "outputs": [
    {
     "name": "stdout",
     "output_type": "stream",
     "text": [
      "The sum of two values : 0\n"
     ]
    }
   ],
   "source": [
    "print(\"The sum of two values :\",f1(100,-100))"
   ]
  },
  {
   "cell_type": "code",
   "execution_count": 15,
   "id": "1ae561b3-cf14-462d-bb44-5e25c39f066a",
   "metadata": {},
   "outputs": [
    {
     "name": "stdout",
     "output_type": "stream",
     "text": [
      "The sum of two values : 200\n"
     ]
    }
   ],
   "source": [
    "print(\"The sum of two values :\",f2(100,-100))"
   ]
  },
  {
   "cell_type": "code",
   "execution_count": 16,
   "id": "44b00383-1a71-4de9-b537-027ef6053ed1",
   "metadata": {},
   "outputs": [],
   "source": [
    "output = f3(f1(100,-100),f2(100,-100))"
   ]
  },
  {
   "cell_type": "code",
   "execution_count": 17,
   "id": "803a7f03-2f01-48d9-b6da-25ea29e87f7c",
   "metadata": {},
   "outputs": [
    {
     "name": "stdout",
     "output_type": "stream",
     "text": [
      "The ouput: 0\n"
     ]
    }
   ],
   "source": [
    "print(\"The ouput:\",output)"
   ]
  },
  {
   "cell_type": "code",
   "execution_count": null,
   "id": "77f4af56-6ead-4f91-9859-1d363adb1cf4",
   "metadata": {},
   "outputs": [],
   "source": []
  }
 ],
 "metadata": {
  "kernelspec": {
   "display_name": "Python 3 (ipykernel)",
   "language": "python",
   "name": "python3"
  },
  "language_info": {
   "codemirror_mode": {
    "name": "ipython",
    "version": 3
   },
   "file_extension": ".py",
   "mimetype": "text/x-python",
   "name": "python",
   "nbconvert_exporter": "python",
   "pygments_lexer": "ipython3",
   "version": "3.12.5"
  }
 },
 "nbformat": 4,
 "nbformat_minor": 5
}
