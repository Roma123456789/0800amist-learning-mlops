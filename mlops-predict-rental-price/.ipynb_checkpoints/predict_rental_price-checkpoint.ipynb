{
 "cells": [
  {
   "cell_type": "code",
   "execution_count": 1,
   "id": "735589e7-b4a1-4667-8b7f-36f1431a08dd",
   "metadata": {},
   "outputs": [],
   "source": [
    "import pandas as pd\n",
    "from sklearn.linear_model import LinearRegression\n",
    "from sklearn.model_selection import train_test_split"
   ]
  },
  {
   "cell_type": "code",
   "execution_count": 2,
   "id": "71e3c236-1993-4947-99d8-aea38b9a3193",
   "metadata": {},
   "outputs": [],
   "source": [
    "rentalDF = pd.read_csv('data/rental_1000.csv')"
   ]
  },
  {
   "cell_type": "code",
   "execution_count": 3,
   "id": "f8e6ef20-6308-40c3-89d0-468686df1f16",
   "metadata": {},
   "outputs": [
    {
     "data": {
      "text/html": [
       "<div>\n",
       "<style scoped>\n",
       "    .dataframe tbody tr th:only-of-type {\n",
       "        vertical-align: middle;\n",
       "    }\n",
       "\n",
       "    .dataframe tbody tr th {\n",
       "        vertical-align: top;\n",
       "    }\n",
       "\n",
       "    .dataframe thead th {\n",
       "        text-align: right;\n",
       "    }\n",
       "</style>\n",
       "<table border=\"1\" class=\"dataframe\">\n",
       "  <thead>\n",
       "    <tr style=\"text-align: right;\">\n",
       "      <th></th>\n",
       "      <th>rooms</th>\n",
       "      <th>sqft</th>\n",
       "      <th>price</th>\n",
       "    </tr>\n",
       "  </thead>\n",
       "  <tbody>\n",
       "    <tr>\n",
       "      <th>0</th>\n",
       "      <td>4</td>\n",
       "      <td>1334</td>\n",
       "      <td>69702</td>\n",
       "    </tr>\n",
       "    <tr>\n",
       "      <th>1</th>\n",
       "      <td>5</td>\n",
       "      <td>1725</td>\n",
       "      <td>86083</td>\n",
       "    </tr>\n",
       "    <tr>\n",
       "      <th>2</th>\n",
       "      <td>1</td>\n",
       "      <td>1058</td>\n",
       "      <td>53492</td>\n",
       "    </tr>\n",
       "    <tr>\n",
       "      <th>3</th>\n",
       "      <td>2</td>\n",
       "      <td>2117</td>\n",
       "      <td>106500</td>\n",
       "    </tr>\n",
       "    <tr>\n",
       "      <th>4</th>\n",
       "      <td>2</td>\n",
       "      <td>2225</td>\n",
       "      <td>110860</td>\n",
       "    </tr>\n",
       "    <tr>\n",
       "      <th>...</th>\n",
       "      <td>...</td>\n",
       "      <td>...</td>\n",
       "      <td>...</td>\n",
       "    </tr>\n",
       "    <tr>\n",
       "      <th>995</th>\n",
       "      <td>2</td>\n",
       "      <td>724</td>\n",
       "      <td>36981</td>\n",
       "    </tr>\n",
       "    <tr>\n",
       "      <th>996</th>\n",
       "      <td>2</td>\n",
       "      <td>2305</td>\n",
       "      <td>114239</td>\n",
       "    </tr>\n",
       "    <tr>\n",
       "      <th>997</th>\n",
       "      <td>4</td>\n",
       "      <td>1782</td>\n",
       "      <td>88291</td>\n",
       "    </tr>\n",
       "    <tr>\n",
       "      <th>998</th>\n",
       "      <td>2</td>\n",
       "      <td>1449</td>\n",
       "      <td>75552</td>\n",
       "    </tr>\n",
       "    <tr>\n",
       "      <th>999</th>\n",
       "      <td>2</td>\n",
       "      <td>1190</td>\n",
       "      <td>60859</td>\n",
       "    </tr>\n",
       "  </tbody>\n",
       "</table>\n",
       "<p>1000 rows × 3 columns</p>\n",
       "</div>"
      ],
      "text/plain": [
       "     rooms  sqft   price\n",
       "0        4  1334   69702\n",
       "1        5  1725   86083\n",
       "2        1  1058   53492\n",
       "3        2  2117  106500\n",
       "4        2  2225  110860\n",
       "..     ...   ...     ...\n",
       "995      2   724   36981\n",
       "996      2  2305  114239\n",
       "997      4  1782   88291\n",
       "998      2  1449   75552\n",
       "999      2  1190   60859\n",
       "\n",
       "[1000 rows x 3 columns]"
      ]
     },
     "execution_count": 3,
     "metadata": {},
     "output_type": "execute_result"
    }
   ],
   "source": [
    "rentalDF"
   ]
  },
  {
   "cell_type": "markdown",
   "id": "e5bd4137-5823-4a25-a8b5-6337560f58e0",
   "metadata": {},
   "source": [
    "# Features and Labels\n",
    "- rooms\n",
    "- sqft \n",
    "\n",
    "# Label\n",
    "- price"
   ]
  },
  {
   "cell_type": "code",
   "execution_count": 10,
   "id": "5bafd034-f0ce-4b78-9d8d-f9e59219aad1",
   "metadata": {},
   "outputs": [],
   "source": [
    "X = rentalDF[['rooms','sqft']].values   # Features \n",
    "y = rentalDF['price'].values           # Label"
   ]
  },
  {
   "cell_type": "code",
   "execution_count": 11,
   "id": "735d0487-d533-48f6-a295-d1f005d96353",
   "metadata": {},
   "outputs": [],
   "source": [
    "X_train, X_test, y_train, y_test = train_test_split(X, y, test_size=0.20)"
   ]
  },
  {
   "cell_type": "markdown",
   "id": "ecd7e290-cefa-4ba9-9bcd-587b60fff0dd",
   "metadata": {},
   "source": [
    "# Model Training"
   ]
  },
  {
   "cell_type": "code",
   "execution_count": 6,
   "id": "23fb2533-2bd1-4a61-81de-e98328dc5a17",
   "metadata": {},
   "outputs": [],
   "source": [
    "model = LinearRegression().fit(X, y)"
   ]
  },
  {
   "cell_type": "markdown",
   "id": "31f25674-7483-4ff8-8ace-f7ce1894a5ae",
   "metadata": {},
   "source": [
    "# Model Prediction"
   ]
  },
  {
   "cell_type": "code",
   "execution_count": 7,
   "id": "c437b407-7d59-4025-8e9c-dcca497433a7",
   "metadata": {},
   "outputs": [],
   "source": [
    "predict_rental_price = model.predict(X_test[0].reshape(1,-1))[0]"
   ]
  },
  {
   "cell_type": "code",
   "execution_count": 8,
   "id": "ff296fe4-423a-4f27-84e9-908f3615e395",
   "metadata": {},
   "outputs": [
    {
     "name": "stdout",
     "output_type": "stream",
     "text": [
      "The Real Rental Price for Rooms count= 4 and Area in Sqft = 2139 is = 110013\n",
      "The Predicted Rental Price for Rooms count= 4 and Area in Sqft = 2139 is = 108888.41322112775\n"
     ]
    }
   ],
   "source": [
    "print(\"The Real Rental Price for Rooms count=\",X_test[0][0],\"and\",\"Area in Sqft =\",X_test[0][1],\"is =\",y_test[0])\n",
    "print(\"The Predicted Rental Price for Rooms count=\",X_test[0][0],\"and\",\"Area in Sqft =\",X_test[0][1],\"is =\",predict_rental_price)"
   ]
  },
  {
   "cell_type": "code",
   "execution_count": null,
   "id": "fdfd2b0c-87d3-4130-9d6b-9e8e59e75413",
   "metadata": {},
   "outputs": [],
   "source": []
  }
 ],
 "metadata": {
  "kernelspec": {
   "display_name": "Python 3 (ipykernel)",
   "language": "python",
   "name": "python3"
  },
  "language_info": {
   "codemirror_mode": {
    "name": "ipython",
    "version": 3
   },
   "file_extension": ".py",
   "mimetype": "text/x-python",
   "name": "python",
   "nbconvert_exporter": "python",
   "pygments_lexer": "ipython3",
   "version": "3.12.4"
  }
 },
 "nbformat": 4,
 "nbformat_minor": 5
}
