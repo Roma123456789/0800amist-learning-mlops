{
 "cells": [
  {
   "cell_type": "code",
   "execution_count": null,
   "id": "735589e7-b4a1-4667-8b7f-36f1431a08dd",
   "metadata": {},
   "outputs": [],
   "source": [
    "import pandas as pd\n",
    "from sklearn.linear_model import LinearRegression\n",
    "from sklearn.model_selection import train_test_split"
   ]
  },
  {
   "cell_type": "code",
   "execution_count": null,
   "id": "71e3c236-1993-4947-99d8-aea38b9a3193",
   "metadata": {},
   "outputs": [],
   "source": [
    "rentalDF = pd.read_csv('data/rental_1000.csv')"
   ]
  },
  {
   "cell_type": "code",
   "execution_count": null,
   "id": "f8e6ef20-6308-40c3-89d0-468686df1f16",
   "metadata": {},
   "outputs": [],
   "source": [
    "rentalDF"
   ]
  },
  {
   "cell_type": "markdown",
   "id": "e5bd4137-5823-4a25-a8b5-6337560f58e0",
   "metadata": {},
   "source": [
    "# Features and Labels\n",
    "- rooms\n",
    "- sqft \n",
    "\n",
    "# Label\n",
    "- price"
   ]
  },
  {
   "cell_type": "code",
   "execution_count": null,
   "id": "5bafd034-f0ce-4b78-9d8d-f9e59219aad1",
   "metadata": {},
   "outputs": [],
   "source": [
    "X = rentalDF[['rooms','sqft']].values   # Features \n",
    "y = rentalDF['price'].values           # Label"
   ]
  },
  {
   "cell_type": "code",
   "execution_count": null,
   "id": "735d0487-d533-48f6-a295-d1f005d96353",
   "metadata": {},
   "outputs": [],
   "source": [
    "X_train, X_test, y_train, y_test = train_test_split(X, y, test_size=0.20)"
   ]
  },
  {
   "cell_type": "markdown",
   "id": "ecd7e290-cefa-4ba9-9bcd-587b60fff0dd",
   "metadata": {},
   "source": [
    "# Model Training"
   ]
  },
  {
   "cell_type": "code",
   "execution_count": null,
   "id": "23fb2533-2bd1-4a61-81de-e98328dc5a17",
   "metadata": {},
   "outputs": [],
   "source": [
    "model = LinearRegression().fit(X, y)"
   ]
  },
  {
   "cell_type": "markdown",
   "id": "31f25674-7483-4ff8-8ace-f7ce1894a5ae",
   "metadata": {},
   "source": [
    "# Model Prediction"
   ]
  },
  {
   "cell_type": "code",
   "execution_count": null,
   "id": "c437b407-7d59-4025-8e9c-dcca497433a7",
   "metadata": {},
   "outputs": [],
   "source": [
    "predict_rental_price = model.predict(X_test[0].reshape(1,-1))[0]"
   ]
  },
  {
   "cell_type": "code",
   "execution_count": null,
   "id": "ff296fe4-423a-4f27-84e9-908f3615e395",
   "metadata": {},
   "outputs": [],
   "source": [
    "print(\"The Real Rental Price for Rooms count=\",X_test[0][0],\"and\",\"Area in Sqft =\",X_test[0][1],\"is =\",y_test[0])\n",
    "print(\"The Predicted Rental Price for Rooms count=\",X_test[0][0],\"and\",\"Area in Sqft =\",X_test[0][1],\"is =\",predict_rental_price)"
   ]
  },
  {
   "cell_type": "code",
   "execution_count": null,
   "id": "fdfd2b0c-87d3-4130-9d6b-9e8e59e75413",
   "metadata": {},
   "outputs": [],
   "source": []
  }
 ],
 "metadata": {
  "kernelspec": {
   "display_name": "Python 3 (ipykernel)",
   "language": "python",
   "name": "python3"
  },
  "language_info": {
   "codemirror_mode": {
    "name": "ipython",
    "version": 3
   },
   "file_extension": ".py",
   "mimetype": "text/x-python",
   "name": "python",
   "nbconvert_exporter": "python",
   "pygments_lexer": "ipython3",
   "version": "3.12.4"
  }
 },
 "nbformat": 4,
 "nbformat_minor": 5
}
